{
 "metadata": {
  "language_info": {
   "codemirror_mode": {
    "name": "ipython",
    "version": 3
   },
   "file_extension": ".py",
   "mimetype": "text/x-python",
   "name": "python",
   "nbconvert_exporter": "python",
   "pygments_lexer": "ipython3",
   "version": "3.7.7"
  },
  "orig_nbformat": 2,
  "kernelspec": {
   "name": "python377jvsc74a57bd08379f70fb6d2a94b1cb87ad557c933870fae1b0b74c8d4fe2b4d1c8359b78ed8",
   "display_name": "Python 3.7.7 64-bit ('3.7.7': pyenv)"
  },
  "metadata": {
   "interpreter": {
    "hash": "aee8b7b246df8f9039afb4144a1f6fd8d2ca17a180786b69acc140d282b71a49"
   }
  }
 },
 "nbformat": 4,
 "nbformat_minor": 2,
 "cells": [
  {
   "source": [
    "# lecture2#homework#lectlinear regression with on bariable"
   ],
   "cell_type": "markdown",
   "metadata": {}
  },
  {
   "cell_type": "code",
   "execution_count": null,
   "metadata": {},
   "outputs": [],
   "source": [
    "import pandas as pd"
   ]
  },
  {
   "source": [
    "## 找到最小方差和"
   ],
   "cell_type": "markdown",
   "metadata": {}
  },
  {
   "cell_type": "code",
   "execution_count": 27,
   "metadata": {},
   "outputs": [
    {
     "output_type": "stream",
     "name": "stdout",
     "text": [
      "θ0: -569.6,θ1: -530.9 方差和: 1617997.0000000005\nθ0: -1780.0,θ1: -530.9 方差和: 19197846.599999998\nθ0: -1780.0,θ1: 530.9 方差和: 258582780.2\nθ0: -569.6,θ1: 530.9 方差和: 384945635.23999995\n"
     ]
    }
   ],
   "source": [
    "def h(var1, var2, x_i):\n",
    "    return var1 + var2 * x_i\n",
    "\n",
    "def j(var1, var2):\n",
    "    sum_of_square = 0\n",
    "    for idx, row in dataset.iterrows():\n",
    "        diff = h(var1, var2, row['x']) - row['y']\n",
    "        sum_of_square += diff * diff\n",
    "    return sum_of_square\n"
   ]
  },
  {
   "source": [
    "通过碳氢化合物含量预测化学物质燃烧时释放的能量\n",
    "\n",
    "x: Number of hydrocarbons in molecule\n",
    "\n",
    "y: Heat release when burned(KJ/mol)\n",
    "\n",
    "linear regression 线性回归函数定义如下：\n",
    "\n",
    "hθ(x)=θ0 + θ1x\n",
    "\n",
    "请给出最拟合（代价函数结果最小的组合）的线性回归函数的 θ0, θ1值\n",
    "\n",
    "* θ0, θ1 = -569.6,-530.9\n",
    "* θ0, θ1 = -1780.0,-530.9\n",
    "* θ0, θ1 = -1780.0,530.9\n",
    "* θ0, θ1 = -569.6,530.9\n",
    "\n",
    "\n",
    "训练集dataset, 以及θ组合定义如下 如下:"
   ],
   "cell_type": "markdown",
   "metadata": {}
  },
  {
   "cell_type": "code",
   "execution_count": 5,
   "metadata": {},
   "outputs": [
    {
     "output_type": "execute_result",
     "data": {
      "text/plain": [
       "   Name_Of_Molecule   x     y\n",
       "0           methane   1  -890\n",
       "1            ethene   2 -1411\n",
       "2            ethane   2 -1560\n",
       "3           propane   3 -2220\n",
       "4      cyclopropane   3 -2091\n",
       "5            butane   4 -2878\n",
       "6           pentane   5 -3537\n",
       "7           benzene   6 -3268\n",
       "8        cycloexane   6 -3920\n",
       "9            hexane   6 -4163\n",
       "10           octane   8 -5471\n",
       "11       napthalene  10 -5157"
      ],
      "text/html": "<div>\n<style scoped>\n    .dataframe tbody tr th:only-of-type {\n        vertical-align: middle;\n    }\n\n    .dataframe tbody tr th {\n        vertical-align: top;\n    }\n\n    .dataframe thead th {\n        text-align: right;\n    }\n</style>\n<table border=\"1\" class=\"dataframe\">\n  <thead>\n    <tr style=\"text-align: right;\">\n      <th></th>\n      <th>Name_Of_Molecule</th>\n      <th>x</th>\n      <th>y</th>\n    </tr>\n  </thead>\n  <tbody>\n    <tr>\n      <th>0</th>\n      <td>methane</td>\n      <td>1</td>\n      <td>-890</td>\n    </tr>\n    <tr>\n      <th>1</th>\n      <td>ethene</td>\n      <td>2</td>\n      <td>-1411</td>\n    </tr>\n    <tr>\n      <th>2</th>\n      <td>ethane</td>\n      <td>2</td>\n      <td>-1560</td>\n    </tr>\n    <tr>\n      <th>3</th>\n      <td>propane</td>\n      <td>3</td>\n      <td>-2220</td>\n    </tr>\n    <tr>\n      <th>4</th>\n      <td>cyclopropane</td>\n      <td>3</td>\n      <td>-2091</td>\n    </tr>\n    <tr>\n      <th>5</th>\n      <td>butane</td>\n      <td>4</td>\n      <td>-2878</td>\n    </tr>\n    <tr>\n      <th>6</th>\n      <td>pentane</td>\n      <td>5</td>\n      <td>-3537</td>\n    </tr>\n    <tr>\n      <th>7</th>\n      <td>benzene</td>\n      <td>6</td>\n      <td>-3268</td>\n    </tr>\n    <tr>\n      <th>8</th>\n      <td>cycloexane</td>\n      <td>6</td>\n      <td>-3920</td>\n    </tr>\n    <tr>\n      <th>9</th>\n      <td>hexane</td>\n      <td>6</td>\n      <td>-4163</td>\n    </tr>\n    <tr>\n      <th>10</th>\n      <td>octane</td>\n      <td>8</td>\n      <td>-5471</td>\n    </tr>\n    <tr>\n      <th>11</th>\n      <td>napthalene</td>\n      <td>10</td>\n      <td>-5157</td>\n    </tr>\n  </tbody>\n</table>\n</div>"
     },
     "metadata": {},
     "execution_count": 5
    }
   ],
   "source": [
    "dataset = pd.DataFrame({\n",
    "    \"Name_Of_Molecule\": ['methane', 'ethene','ethane','propane','cyclopropane','butane','pentane','benzene','cycloexane','hexane','octane','napthalene'],\n",
    "    \"x\": [1,2,2,3,3,4,5,6,6,6,8,10],\n",
    "    \"y\": [-890,-1411,-1560,-2220,-2091,-2878,-3537,-3268,-3920,-4163,-5471,-5157]\n",
    "})\n",
    "\n",
    "theta_tumple = [(-569.6,-530.9), (-1780.0,-530.9), (-1780.0,530.9), (-569.6,530.9)]\n",
    "\n",
    "dataset"
   ]
  },
  {
   "cell_type": "code",
   "execution_count": null,
   "metadata": {},
   "outputs": [],
   "source": [
    "for i in theta_tumple:\n",
    "    print(\"θ0: {},θ1: {} 方差和: {}\".format(i[0], i[1], j(i[0], i[1])))"
   ]
  },
  {
   "source": [
    "\n",
    "所以答案是第一个组合为正确选择\n",
    "\n",
    "```\n",
    "θ0: -569.6,θ1: -530.9\n",
    "```"
   ],
   "cell_type": "markdown",
   "metadata": {}
  },
  {
   "source": [
    "假设有如下数据集，且m=4。 假设线性回归函数：hθ(x)=θ0 + θ1x\n",
    "有以下θ0, θ1组合请选择梯度回归收敛最优的组合\n",
    "\n",
    "* θ0, θ1 = 0.5,0\n",
    "* θ0, θ1 = 1,1\n",
    "* θ0, θ1 = 1,0.5\n",
    "* θ0, θ1 = 0,0.5\n",
    "* θ0, θ1 = 0.5,0.5"
   ],
   "cell_type": "markdown",
   "metadata": {}
  },
  {
   "cell_type": "code",
   "execution_count": 29,
   "metadata": {},
   "outputs": [
    {
     "output_type": "execute_result",
     "data": {
      "text/plain": [
       "   x    y\n",
       "0  1  0.5\n",
       "1  2  1.0\n",
       "2  4  2.0\n",
       "3  0  0.0"
      ],
      "text/html": "<div>\n<style scoped>\n    .dataframe tbody tr th:only-of-type {\n        vertical-align: middle;\n    }\n\n    .dataframe tbody tr th {\n        vertical-align: top;\n    }\n\n    .dataframe thead th {\n        text-align: right;\n    }\n</style>\n<table border=\"1\" class=\"dataframe\">\n  <thead>\n    <tr style=\"text-align: right;\">\n      <th></th>\n      <th>x</th>\n      <th>y</th>\n    </tr>\n  </thead>\n  <tbody>\n    <tr>\n      <th>0</th>\n      <td>1</td>\n      <td>0.5</td>\n    </tr>\n    <tr>\n      <th>1</th>\n      <td>2</td>\n      <td>1.0</td>\n    </tr>\n    <tr>\n      <th>2</th>\n      <td>4</td>\n      <td>2.0</td>\n    </tr>\n    <tr>\n      <th>3</th>\n      <td>0</td>\n      <td>0.0</td>\n    </tr>\n  </tbody>\n</table>\n</div>"
     },
     "metadata": {},
     "execution_count": 29
    }
   ],
   "source": [
    "dataset = pd.DataFrame({\n",
    "    'x': [1,2,4,0],\n",
    "    'y': [0.5,1,2,0],\n",
    "})\n",
    "\n",
    "theta_tumple = [(0.5, 0), (1, 1), (1, 0.5), (0, 0.5), (0.5, 0.5)]\n",
    "\n",
    "dataset"
   ]
  },
  {
   "cell_type": "code",
   "execution_count": 30,
   "metadata": {},
   "outputs": [
    {
     "output_type": "stream",
     "name": "stdout",
     "text": [
      "θ0: 0.5,θ1: 0 方差和: 2.75\nθ0: 1,θ1: 1 方差和: 16.25\nθ0: 1,θ1: 0.5 方差和: 4.0\nθ0: 0,θ1: 0.5 方差和: 0.0\nθ0: 0.5,θ1: 0.5 方差和: 1.0\n"
     ]
    }
   ],
   "source": [
    "for i in theta_tumple:\n",
    "    print(\"θ0: {},θ1: {} 方差和: {}\".format(i[0], i[1], j(i[0], i[1])))"
   ]
  },
  {
   "source": [
    "所以结果为\n",
    "```\n",
    "θ0: 0,θ1: 0.5\n",
    "```\n",
    "\n",
    "梯度收敛为0，完美拟合"
   ],
   "cell_type": "markdown",
   "metadata": {}
  }
 ]
}