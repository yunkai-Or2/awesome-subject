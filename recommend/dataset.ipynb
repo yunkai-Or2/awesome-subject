{
 "cells": [
  {
   "cell_type": "markdown",
   "metadata": {},
   "source": [
    "# 推荐系统开发实战-推荐常用数据集介绍"
   ]
  },
  {
   "cell_type": "markdown",
   "metadata": {},
   "source": [
    "## MovieLens数据集\n",
    "\n",
    "主要适用于评分预测类的推荐场景。"
   ]
  },
  {
   "cell_type": "markdown",
   "metadata": {},
   "source": [
    "## Book-Crossings数据集\n",
    "\n",
    "主要适用于评分预测类的推荐场景。该数据的原数据中包含异常数据，旨在说明在使用数据之前需要进行数据有效性验证。"
   ]
  },
  {
   "cell_type": "markdown",
   "metadata": {},
   "source": [
    "## Last.fm数据集\n",
    "\n",
    "主要适用于基于标签的推荐场景，也适用于评分预测类和社交关系类的推荐场景。"
   ]
  },
  {
   "cell_type": "markdown",
   "metadata": {},
   "source": [
    "## FourSquare数据集\n",
    "\n",
    "主要适用于基于位置的推荐场景，也适用于评分预测类推荐场景。"
   ]
  },
  {
   "cell_type": "markdown",
   "metadata": {},
   "source": [
    "## Kaggle retailrocket数据集\n",
    "\n",
    "主要适用于隐式反馈推荐场景"
   ]
  },
  {
   "cell_type": "markdown",
   "metadata": {},
   "source": []
  }
 ],
 "metadata": {
  "language_info": {
   "name": "python"
  },
  "orig_nbformat": 4
 },
 "nbformat": 4,
 "nbformat_minor": 2
}
